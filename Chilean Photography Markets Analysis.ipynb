{
 "cells": [
  {
   "cell_type": "markdown",
   "id": "4036c468",
   "metadata": {},
   "source": [
    "# Chilean Photography Markets Analysis\n",
    "\n",
    "Analysis from the scraped data from chilean photography websites \n",
    "\n",
    "### Import Python Libraries\n",
    "Import the python libraries to be used in this jupyter notebook"
   ]
  },
  {
   "cell_type": "code",
   "execution_count": 212,
   "id": "11f24b5e",
   "metadata": {},
   "outputs": [],
   "source": [
    "import numpy as np\n",
    "import pandas as pd"
   ]
  },
  {
   "cell_type": "markdown",
   "id": "9311594d",
   "metadata": {},
   "source": [
    "### Load Data\n",
    "\n",
    "Load data from CSV files"
   ]
  },
  {
   "cell_type": "code",
   "execution_count": 213,
   "id": "79946e89",
   "metadata": {},
   "outputs": [],
   "source": [
    "# -- Read Products file --\n",
    "df = pd.read_csv(\"data/products.csv\", skiprows=0, sep=';')"
   ]
  },
  {
   "cell_type": "code",
   "execution_count": 214,
   "id": "d633d76a",
   "metadata": {
    "scrolled": true
   },
   "outputs": [
    {
     "name": "stdout",
     "output_type": "stream",
     "text": [
      "<class 'pandas.core.frame.DataFrame'>\n",
      "RangeIndex: 71140 entries, 0 to 71139\n",
      "Data columns (total 10 columns):\n",
      " #   Column             Non-Null Count  Dtype \n",
      "---  ------             --------------  ----- \n",
      " 0   brand_name         71140 non-null  object\n",
      " 1   category_name      71140 non-null  object\n",
      " 2   sub_category_name  71140 non-null  object\n",
      " 3   product_sku        70568 non-null  object\n",
      " 4   product_name       71140 non-null  object\n",
      " 5   market_name        71140 non-null  object\n",
      " 6   product_in_stock   71140 non-null  bool  \n",
      " 7   price_value        71140 non-null  int64 \n",
      " 8   price_type         71140 non-null  object\n",
      " 9   price_datetime     71140 non-null  object\n",
      "dtypes: bool(1), int64(1), object(8)\n",
      "memory usage: 5.0+ MB\n"
     ]
    }
   ],
   "source": [
    "df.info()"
   ]
  },
  {
   "cell_type": "code",
   "execution_count": 215,
   "id": "6142bfc2",
   "metadata": {
    "scrolled": false
   },
   "outputs": [
    {
     "data": {
      "text/html": [
       "<div>\n",
       "<style scoped>\n",
       "    .dataframe tbody tr th:only-of-type {\n",
       "        vertical-align: middle;\n",
       "    }\n",
       "\n",
       "    .dataframe tbody tr th {\n",
       "        vertical-align: top;\n",
       "    }\n",
       "\n",
       "    .dataframe thead th {\n",
       "        text-align: right;\n",
       "    }\n",
       "</style>\n",
       "<table border=\"1\" class=\"dataframe\">\n",
       "  <thead>\n",
       "    <tr style=\"text-align: right;\">\n",
       "      <th></th>\n",
       "      <th>brand_name</th>\n",
       "      <th>category_name</th>\n",
       "      <th>sub_category_name</th>\n",
       "      <th>product_sku</th>\n",
       "      <th>product_name</th>\n",
       "      <th>market_name</th>\n",
       "      <th>product_in_stock</th>\n",
       "      <th>price_value</th>\n",
       "      <th>price_type</th>\n",
       "      <th>price_datetime</th>\n",
       "    </tr>\n",
       "  </thead>\n",
       "  <tbody>\n",
       "    <tr>\n",
       "      <th>0</th>\n",
       "      <td>SONY</td>\n",
       "      <td>LENTES</td>\n",
       "      <td>OPTICA</td>\n",
       "      <td>1621365377005</td>\n",
       "      <td>LENTE SONY DISTAGON T* FE 35MM F/1.4 ZA LENS</td>\n",
       "      <td>RINCON-FOTOGRAFICO</td>\n",
       "      <td>True</td>\n",
       "      <td>702769</td>\n",
       "      <td>NORMAL</td>\n",
       "      <td>2021-06-16 05:00:00</td>\n",
       "    </tr>\n",
       "    <tr>\n",
       "      <th>1</th>\n",
       "      <td>SONY</td>\n",
       "      <td>LENTES</td>\n",
       "      <td>OPTICA</td>\n",
       "      <td>1621365377005</td>\n",
       "      <td>LENTE SONY DISTAGON T* FE 35MM F/1.4 ZA LENS</td>\n",
       "      <td>RINCON-FOTOGRAFICO</td>\n",
       "      <td>True</td>\n",
       "      <td>1239990</td>\n",
       "      <td>NORMAL</td>\n",
       "      <td>2021-06-16 05:00:00</td>\n",
       "    </tr>\n",
       "    <tr>\n",
       "      <th>2</th>\n",
       "      <td>SONY</td>\n",
       "      <td>LENTES</td>\n",
       "      <td>OPTICA</td>\n",
       "      <td>1621439217191</td>\n",
       "      <td>LENTE SONY E 16-55MM F2.8 G</td>\n",
       "      <td>RINCON-FOTOGRAFICO</td>\n",
       "      <td>True</td>\n",
       "      <td>837389</td>\n",
       "      <td>NORMAL</td>\n",
       "      <td>2021-06-16 05:00:00</td>\n",
       "    </tr>\n",
       "    <tr>\n",
       "      <th>3</th>\n",
       "      <td>SONY</td>\n",
       "      <td>LENTES</td>\n",
       "      <td>OPTICA</td>\n",
       "      <td>SEL14F18GM</td>\n",
       "      <td>SONY FE 14MM F/1.8 GM FE</td>\n",
       "      <td>HORIZONTAL-FOTO</td>\n",
       "      <td>True</td>\n",
       "      <td>1259990</td>\n",
       "      <td>NORMAL</td>\n",
       "      <td>2021-06-15 18:00:00</td>\n",
       "    </tr>\n",
       "    <tr>\n",
       "      <th>4</th>\n",
       "      <td>FUJIFILM</td>\n",
       "      <td>LENTES</td>\n",
       "      <td>OPTICA</td>\n",
       "      <td>1509738027912</td>\n",
       "      <td>FUJIFILM XF 16-55MM F/2.8 R LM WR</td>\n",
       "      <td>RINCON-FOTOGRAFICO</td>\n",
       "      <td>False</td>\n",
       "      <td>999990</td>\n",
       "      <td>NORMAL</td>\n",
       "      <td>2021-06-19 03:00:00</td>\n",
       "    </tr>\n",
       "  </tbody>\n",
       "</table>\n",
       "</div>"
      ],
      "text/plain": [
       "  brand_name category_name sub_category_name    product_sku  \\\n",
       "0       SONY        LENTES            OPTICA  1621365377005   \n",
       "1       SONY        LENTES            OPTICA  1621365377005   \n",
       "2       SONY        LENTES            OPTICA  1621439217191   \n",
       "3       SONY        LENTES            OPTICA     SEL14F18GM   \n",
       "4   FUJIFILM        LENTES            OPTICA  1509738027912   \n",
       "\n",
       "                                   product_name         market_name  \\\n",
       "0  LENTE SONY DISTAGON T* FE 35MM F/1.4 ZA LENS  RINCON-FOTOGRAFICO   \n",
       "1  LENTE SONY DISTAGON T* FE 35MM F/1.4 ZA LENS  RINCON-FOTOGRAFICO   \n",
       "2                   LENTE SONY E 16-55MM F2.8 G  RINCON-FOTOGRAFICO   \n",
       "3                      SONY FE 14MM F/1.8 GM FE     HORIZONTAL-FOTO   \n",
       "4             FUJIFILM XF 16-55MM F/2.8 R LM WR  RINCON-FOTOGRAFICO   \n",
       "\n",
       "   product_in_stock  price_value price_type       price_datetime  \n",
       "0              True       702769     NORMAL  2021-06-16 05:00:00  \n",
       "1              True      1239990     NORMAL  2021-06-16 05:00:00  \n",
       "2              True       837389     NORMAL  2021-06-16 05:00:00  \n",
       "3              True      1259990     NORMAL  2021-06-15 18:00:00  \n",
       "4             False       999990     NORMAL  2021-06-19 03:00:00  "
      ]
     },
     "execution_count": 215,
     "metadata": {},
     "output_type": "execute_result"
    }
   ],
   "source": [
    "df.head()"
   ]
  },
  {
   "cell_type": "markdown",
   "id": "afb24591",
   "metadata": {},
   "source": [
    "Unique values for every columns"
   ]
  },
  {
   "cell_type": "code",
   "execution_count": 219,
   "id": "eb3c99a2",
   "metadata": {
    "scrolled": true
   },
   "outputs": [
    {
     "name": "stdout",
     "output_type": "stream",
     "text": [
      "188 \t brand_name\n",
      "7 \t category_name\n",
      "33 \t sub_category_name\n",
      "7289 \t product_sku\n",
      "8558 \t product_name\n",
      "18 \t market_name\n",
      "2 \t product_in_stock\n",
      "6914 \t price_value\n",
      "2 \t price_type\n",
      "1824 \t price_datetime\n"
     ]
    }
   ],
   "source": [
    "print(f\"{df.brand_name.nunique()} \\t brand_name\")\n",
    "print(f\"{df.category_name.nunique()} \\t category_name\")\n",
    "print(f\"{df.sub_category_name.nunique()} \\t sub_category_name\")\n",
    "print(f\"{df.product_sku.nunique()} \\t product_sku\")\n",
    "print(f\"{df.product_name.nunique()} \\t product_name\")\n",
    "print(f\"{df.market_name.nunique()} \\t market_name\")\n",
    "print(f\"{df.product_in_stock.nunique()} \\t product_in_stock\")\n",
    "print(f\"{df.price_value.nunique()} \\t price_value\")\n",
    "print(f\"{df.price_type.nunique()} \\t price_type\")\n",
    "print(f\"{df.price_datetime.nunique()} \\t price_datetime\")"
   ]
  }
 ],
 "metadata": {
  "kernelspec": {
   "display_name": "Python 3",
   "language": "python",
   "name": "python3"
  },
  "language_info": {
   "codemirror_mode": {
    "name": "ipython",
    "version": 3
   },
   "file_extension": ".py",
   "mimetype": "text/x-python",
   "name": "python",
   "nbconvert_exporter": "python",
   "pygments_lexer": "ipython3",
   "version": "3.8.8"
  }
 },
 "nbformat": 4,
 "nbformat_minor": 5
}
