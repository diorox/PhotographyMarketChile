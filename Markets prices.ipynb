{
 "cells": [
  {
   "cell_type": "markdown",
   "id": "bb38de6e",
   "metadata": {},
   "source": [
    "# Chilean Photography Markets Analysis\n",
    "\n",
    "Analysis from the scraped data from chilean photography websites \n",
    "\n",
    "### Import Python Libraries\n",
    "Import the python libraries to be used in this jupyter notebook"
   ]
  },
  {
   "cell_type": "code",
   "execution_count": 173,
   "id": "8f3a2d3a",
   "metadata": {},
   "outputs": [],
   "source": [
    "import numpy as np\n",
    "import pandas as pd"
   ]
  },
  {
   "cell_type": "markdown",
   "id": "6d8b1a3d",
   "metadata": {},
   "source": [
    "### Load Data\n",
    "\n",
    "Load data from CSV files"
   ]
  },
  {
   "cell_type": "code",
   "execution_count": 190,
   "id": "99030c80",
   "metadata": {},
   "outputs": [],
   "source": [
    "# -- Read all files --\n",
    "\n",
    "# read Brand dataset\n",
    "brand_dt = pd.read_csv(\"data/brand.csv\", skiprows=0, sep=';', dtype={\"brand_id\": int})\n",
    "brand_dt.columns = ['brand_id', 'brand_name']\n",
    "\n",
    "# read Category dataset\n",
    "category_dt = pd.read_csv(\"data/category.csv\", skiprows=0, sep=';', dtype={\"id\": int})\n",
    "category_dt.columns = ['category_id', 'category_name']\n",
    "\n",
    "# read Sub-Category dataset\n",
    "category_sub_dt = pd.read_csv(\"data/category_sub.csv\",  sep=';', dtype={\"id\": int, \"category_id\":int})\n",
    "category_sub_dt.columns = ['sub_category_id', 'sub_category_name', 'category_id']\n",
    "\n",
    "# read Market dataset\n",
    "market_dt = pd.read_csv(\"data/market.csv\",  sep=';', dtype={\"id\": int})\n",
    "market_dt.columns = ['market_id', 'market_name']\n",
    "\n",
    "# read Product Price dataset\n",
    "price_dt = pd.read_csv(\"data/price.csv\",  sep=';', dtype={\"id\": int})\n",
    "price_dt.columns = ['price_id', 'price_value', 'price_datetime', 'product_sku_id', 'product_id', 'price_type_id']\n",
    "\n",
    "# read Product Price Type dataset\n",
    "price_type_dt = pd.read_csv(\"data/price_type.csv\",  sep=';', dtype={\"id\": int})\n",
    "price_type_dt.columns = ['price_type_id', 'price_type_name']\n",
    "\n",
    "# read Product dataset\n",
    "product_dt = pd.read_csv(\"data/product.csv\",  sep=';', dtype={\"id\": int})\n",
    "product_dt.drop(['url', 'image', 'percent', 'description'], axis='columns', inplace=True)\n",
    "product_dt.columns = ['product_id', 'product_name', 'sub_category_id', 'brand_id', 'product_in_stock']\n",
    "\n",
    "# read Product SKU dataset\n",
    "product_sku_dt = pd.read_csv(\"data/product_sku.csv\",  sep=';', dtype={\"id\": int})\n",
    "product_sku_dt.drop(['url'], axis='columns', inplace=True)\n",
    "product_sku_dt.columns = ['product_sku_id', 'product_sku_value', 'market_id']\n"
   ]
  },
  {
   "cell_type": "markdown",
   "id": "2fc6e64e",
   "metadata": {},
   "source": [
    "The <code>price_datetime</code> column has the following date format: <code>YYYY-MM-DD HH24</code>"
   ]
  },
  {
   "cell_type": "code",
   "execution_count": 191,
   "id": "5a3c9b8e",
   "metadata": {},
   "outputs": [],
   "source": [
    "price_dt['price_datetime'] = pd.to_datetime(price_dt['price_datetime'], format='%Y-%m-%d %H')"
   ]
  },
  {
   "cell_type": "markdown",
   "id": "30aaa99e",
   "metadata": {},
   "source": [
    "Merge all datasets"
   ]
  },
  {
   "cell_type": "code",
   "execution_count": 192,
   "id": "a2a8a3c6",
   "metadata": {},
   "outputs": [],
   "source": [
    "# Merge all datasets\n",
    "dt1 = pd.merge(category_dt, category_sub_dt, how='inner', on='category_id')\n",
    "dt2 = pd.merge(product_dt, brand_dt, how='inner', on='brand_id')\n",
    "dt3 = pd.merge(dt1, dt2, how='inner', on='sub_category_id')\n",
    "dt4 = pd.merge(market_dt, product_sku_dt, how='inner', on='market_id')\n",
    "dt5 = pd.merge(price_dt, price_type_dt, how='inner', on='price_type_id')\n",
    "dt6 = pd.merge(dt4, dt5, how='inner', on='product_sku_id')\n",
    "df = pd.merge(dt3, dt6, how='inner', on='product_id')"
   ]
  },
  {
   "cell_type": "markdown",
   "id": "8e903485",
   "metadata": {},
   "source": [
    "Final merged pandas dataframe info:"
   ]
  },
  {
   "cell_type": "code",
   "execution_count": 193,
   "id": "739dcc0b",
   "metadata": {
    "scrolled": true
   },
   "outputs": [
    {
     "name": "stdout",
     "output_type": "stream",
     "text": [
      "<class 'pandas.core.frame.DataFrame'>\n",
      "Int64Index: 71060 entries, 0 to 71059\n",
      "Data columns (total 18 columns):\n",
      " #   Column             Non-Null Count  Dtype         \n",
      "---  ------             --------------  -----         \n",
      " 0   category_id        71060 non-null  int32         \n",
      " 1   category_name      71060 non-null  object        \n",
      " 2   sub_category_id    71060 non-null  int32         \n",
      " 3   sub_category_name  71060 non-null  object        \n",
      " 4   product_id         71060 non-null  int32         \n",
      " 5   product_name       71060 non-null  object        \n",
      " 6   brand_id           71060 non-null  int64         \n",
      " 7   product_in_stock   71060 non-null  bool          \n",
      " 8   brand_name         71060 non-null  object        \n",
      " 9   market_id          71060 non-null  int32         \n",
      " 10  market_name        71060 non-null  object        \n",
      " 11  product_sku_id     71060 non-null  int32         \n",
      " 12  product_sku_value  70488 non-null  object        \n",
      " 13  price_id           71060 non-null  int32         \n",
      " 14  price_value        71060 non-null  int64         \n",
      " 15  price_datetime     71060 non-null  datetime64[ns]\n",
      " 16  price_type_id      71060 non-null  int64         \n",
      " 17  price_type_name    71060 non-null  object        \n",
      "dtypes: bool(1), datetime64[ns](1), int32(6), int64(3), object(7)\n",
      "memory usage: 8.2+ MB\n"
     ]
    }
   ],
   "source": [
    "df.info()"
   ]
  },
  {
   "cell_type": "code",
   "execution_count": 206,
   "id": "ac7b2266",
   "metadata": {
    "scrolled": false
   },
   "outputs": [
    {
     "data": {
      "text/html": [
       "<div>\n",
       "<style scoped>\n",
       "    .dataframe tbody tr th:only-of-type {\n",
       "        vertical-align: middle;\n",
       "    }\n",
       "\n",
       "    .dataframe tbody tr th {\n",
       "        vertical-align: top;\n",
       "    }\n",
       "\n",
       "    .dataframe thead th {\n",
       "        text-align: right;\n",
       "    }\n",
       "</style>\n",
       "<table border=\"1\" class=\"dataframe\">\n",
       "  <thead>\n",
       "    <tr style=\"text-align: right;\">\n",
       "      <th></th>\n",
       "      <th>category_id</th>\n",
       "      <th>category_name</th>\n",
       "      <th>sub_category_id</th>\n",
       "      <th>sub_category_name</th>\n",
       "      <th>product_id</th>\n",
       "      <th>product_name</th>\n",
       "      <th>brand_id</th>\n",
       "      <th>product_in_stock</th>\n",
       "      <th>brand_name</th>\n",
       "      <th>market_id</th>\n",
       "      <th>market_name</th>\n",
       "      <th>product_sku_id</th>\n",
       "      <th>product_sku_value</th>\n",
       "      <th>price_id</th>\n",
       "      <th>price_value</th>\n",
       "      <th>price_datetime</th>\n",
       "      <th>price_type_id</th>\n",
       "      <th>price_type_name</th>\n",
       "    </tr>\n",
       "  </thead>\n",
       "  <tbody>\n",
       "    <tr>\n",
       "      <th>0</th>\n",
       "      <td>999</td>\n",
       "      <td>OTROS</td>\n",
       "      <td>999003</td>\n",
       "      <td>ENERGIA</td>\n",
       "      <td>9354</td>\n",
       "      <td>CARGADOR DE BATERIA CB-2LH CANON</td>\n",
       "      <td>55</td>\n",
       "      <td>True</td>\n",
       "      <td>CANON</td>\n",
       "      <td>25</td>\n",
       "      <td>E-BEST</td>\n",
       "      <td>8356</td>\n",
       "      <td>013803247602</td>\n",
       "      <td>71476</td>\n",
       "      <td>29990</td>\n",
       "      <td>2021-06-27 17:00:00</td>\n",
       "      <td>1</td>\n",
       "      <td>NORMAL</td>\n",
       "    </tr>\n",
       "    <tr>\n",
       "      <th>1</th>\n",
       "      <td>999</td>\n",
       "      <td>OTROS</td>\n",
       "      <td>999003</td>\n",
       "      <td>ENERGIA</td>\n",
       "      <td>9354</td>\n",
       "      <td>CARGADOR DE BATERIA CB-2LH CANON</td>\n",
       "      <td>55</td>\n",
       "      <td>True</td>\n",
       "      <td>CANON</td>\n",
       "      <td>25</td>\n",
       "      <td>E-BEST</td>\n",
       "      <td>8356</td>\n",
       "      <td>013803247602</td>\n",
       "      <td>71420</td>\n",
       "      <td>29990</td>\n",
       "      <td>2021-06-22 11:00:00</td>\n",
       "      <td>1</td>\n",
       "      <td>NORMAL</td>\n",
       "    </tr>\n",
       "    <tr>\n",
       "      <th>2</th>\n",
       "      <td>999</td>\n",
       "      <td>OTROS</td>\n",
       "      <td>999003</td>\n",
       "      <td>ENERGIA</td>\n",
       "      <td>9181</td>\n",
       "      <td>BATERIA CANON NB-10L</td>\n",
       "      <td>55</td>\n",
       "      <td>True</td>\n",
       "      <td>CANON</td>\n",
       "      <td>25</td>\n",
       "      <td>E-BEST</td>\n",
       "      <td>8132</td>\n",
       "      <td>013803140347</td>\n",
       "      <td>70766</td>\n",
       "      <td>39990</td>\n",
       "      <td>2021-06-21 16:00:00</td>\n",
       "      <td>1</td>\n",
       "      <td>NORMAL</td>\n",
       "    </tr>\n",
       "    <tr>\n",
       "      <th>3</th>\n",
       "      <td>999</td>\n",
       "      <td>OTROS</td>\n",
       "      <td>999003</td>\n",
       "      <td>ENERGIA</td>\n",
       "      <td>9181</td>\n",
       "      <td>BATERIA CANON NB-10L</td>\n",
       "      <td>55</td>\n",
       "      <td>True</td>\n",
       "      <td>CANON</td>\n",
       "      <td>25</td>\n",
       "      <td>E-BEST</td>\n",
       "      <td>8132</td>\n",
       "      <td>013803140347</td>\n",
       "      <td>71261</td>\n",
       "      <td>39990</td>\n",
       "      <td>2021-06-27 17:00:00</td>\n",
       "      <td>1</td>\n",
       "      <td>NORMAL</td>\n",
       "    </tr>\n",
       "    <tr>\n",
       "      <th>4</th>\n",
       "      <td>999</td>\n",
       "      <td>OTROS</td>\n",
       "      <td>999003</td>\n",
       "      <td>ENERGIA</td>\n",
       "      <td>9183</td>\n",
       "      <td>CARGADOR DE BATERIA CANON LC-E8E</td>\n",
       "      <td>55</td>\n",
       "      <td>True</td>\n",
       "      <td>CANON</td>\n",
       "      <td>25</td>\n",
       "      <td>E-BEST</td>\n",
       "      <td>8134</td>\n",
       "      <td>013803125856</td>\n",
       "      <td>70768</td>\n",
       "      <td>36990</td>\n",
       "      <td>2021-06-21 16:00:00</td>\n",
       "      <td>1</td>\n",
       "      <td>NORMAL</td>\n",
       "    </tr>\n",
       "  </tbody>\n",
       "</table>\n",
       "</div>"
      ],
      "text/plain": [
       "   category_id category_name  sub_category_id sub_category_name  product_id  \\\n",
       "0          999         OTROS           999003           ENERGIA        9354   \n",
       "1          999         OTROS           999003           ENERGIA        9354   \n",
       "2          999         OTROS           999003           ENERGIA        9181   \n",
       "3          999         OTROS           999003           ENERGIA        9181   \n",
       "4          999         OTROS           999003           ENERGIA        9183   \n",
       "\n",
       "                       product_name  brand_id  product_in_stock brand_name  \\\n",
       "0  CARGADOR DE BATERIA CB-2LH CANON        55              True      CANON   \n",
       "1  CARGADOR DE BATERIA CB-2LH CANON        55              True      CANON   \n",
       "2              BATERIA CANON NB-10L        55              True      CANON   \n",
       "3              BATERIA CANON NB-10L        55              True      CANON   \n",
       "4  CARGADOR DE BATERIA CANON LC-E8E        55              True      CANON   \n",
       "\n",
       "   market_id market_name  product_sku_id product_sku_value  price_id  \\\n",
       "0         25      E-BEST            8356      013803247602     71476   \n",
       "1         25      E-BEST            8356      013803247602     71420   \n",
       "2         25      E-BEST            8132      013803140347     70766   \n",
       "3         25      E-BEST            8132      013803140347     71261   \n",
       "4         25      E-BEST            8134      013803125856     70768   \n",
       "\n",
       "   price_value      price_datetime  price_type_id price_type_name  \n",
       "0        29990 2021-06-27 17:00:00              1          NORMAL  \n",
       "1        29990 2021-06-22 11:00:00              1          NORMAL  \n",
       "2        39990 2021-06-21 16:00:00              1          NORMAL  \n",
       "3        39990 2021-06-27 17:00:00              1          NORMAL  \n",
       "4        36990 2021-06-21 16:00:00              1          NORMAL  "
      ]
     },
     "execution_count": 206,
     "metadata": {},
     "output_type": "execute_result"
    }
   ],
   "source": [
    "df.head()"
   ]
  },
  {
   "cell_type": "markdown",
   "id": "dc11deb4",
   "metadata": {},
   "source": [
    "Unique values for every columns"
   ]
  },
  {
   "cell_type": "code",
   "execution_count": 207,
   "id": "a91a0ceb",
   "metadata": {},
   "outputs": [
    {
     "name": "stdout",
     "output_type": "stream",
     "text": [
      "7 \t category_id\n",
      "7 \t category_name\n",
      "41 \t sub_category_id\n",
      "33 \t sub_category_name\n",
      "8778 \t product_id\n",
      "8558 \t product_name\n",
      "188 \t brand_id\n",
      "2 \t product_in_stock\n",
      "188 \t brand_name\n",
      "18 \t market_id\n",
      "18 \t market_name\n",
      "8345 \t product_sku_id\n",
      "7289 \t product_sku_value\n",
      "71060 \t price_id\n",
      "6914 \t price_value\n",
      "1817 \t price_datetime\n",
      "2 \t price_type_id\n",
      "2 \t price_type_name\n"
     ]
    }
   ],
   "source": [
    "print(f\"{df.category_id.nunique()} \\t category_id\") \n",
    "print(f\"{df.category_name.nunique()} \\t category_name\")   \n",
    "print(f\"{df.sub_category_id.nunique()} \\t sub_category_id\") \n",
    "print(f\"{df.sub_category_name.nunique()} \\t sub_category_name\")   \n",
    "print(f\"{df.product_id.nunique()} \\t product_id\")  \n",
    "print(f\"{df.product_name.nunique()} \\t product_name\")    \n",
    "print(f\"{df.brand_id.nunique()} \\t brand_id\")    \n",
    "print(f\"{df.product_in_stock.nunique()} \\t product_in_stock\")    \n",
    "print(f\"{df.brand_name.nunique()} \\t brand_name\")  \n",
    "print(f\"{df.market_id.nunique()} \\t market_id\")   \n",
    "print(f\"{df.market_name.nunique()} \\t market_name\") \n",
    "print(f\"{df.product_sku_id.nunique()} \\t product_sku_id\")  \n",
    "print(f\"{df.product_sku_value.nunique()} \\t product_sku_value\")   \n",
    "print(f\"{df.price_id.nunique()} \\t price_id\")    \n",
    "print(f\"{df.price_value.nunique()} \\t price_value\") \n",
    "print(f\"{df.price_datetime.nunique()} \\t price_datetime\") \n",
    "print(f\"{df.price_type_id.nunique()} \\t price_type_id\")   \n",
    "print(f\"{df.price_type_name.nunique()} \\t price_type_name\")"
   ]
  }
 ],
 "metadata": {
  "kernelspec": {
   "display_name": "Python 3",
   "language": "python",
   "name": "python3"
  },
  "language_info": {
   "codemirror_mode": {
    "name": "ipython",
    "version": 3
   },
   "file_extension": ".py",
   "mimetype": "text/x-python",
   "name": "python",
   "nbconvert_exporter": "python",
   "pygments_lexer": "ipython3",
   "version": "3.8.8"
  }
 },
 "nbformat": 4,
 "nbformat_minor": 5
}
